{
 "cells": [
  {
   "cell_type": "code",
   "execution_count": 1,
   "id": "initial_id",
   "metadata": {
    "collapsed": true,
    "ExecuteTime": {
     "end_time": "2023-10-18T16:56:25.534066Z",
     "start_time": "2023-10-18T16:56:23.914315900Z"
    }
   },
   "outputs": [],
   "source": [
    "import pandas as pd\n",
    "import typing\n",
    "import matplotlib.pyplot as plt\n",
    "import random\n",
    "import src.distributions\n",
    "import src.weekly"
   ]
  },
  {
   "cell_type": "code",
   "execution_count": 7,
   "outputs": [],
   "source": [
    "from pathlib import Path\n",
    "file_to_load = Path.cwd().parent.joinpath('data').joinpath('chipotle.tsv')"
   ],
   "metadata": {
    "collapsed": false,
    "ExecuteTime": {
     "end_time": "2023-10-18T17:19:06.680235300Z",
     "start_time": "2023-10-18T17:19:06.674953800Z"
    }
   },
   "id": "2e96e30e59b9cc2"
  },
  {
   "cell_type": "code",
   "execution_count": 15,
   "outputs": [
    {
     "data": {
      "text/plain": "      order_id  quantity                              item_name  \\\n0            1         1           Chips and Fresh Tomato Salsa   \n1            1         1                                   Izze   \n2            1         1                       Nantucket Nectar   \n3            1         1  Chips and Tomatillo-Green Chili Salsa   \n4            2         2                           Chicken Bowl   \n...        ...       ...                                    ...   \n4617      1833         1                          Steak Burrito   \n4618      1833         1                          Steak Burrito   \n4619      1834         1                     Chicken Salad Bowl   \n4620      1834         1                     Chicken Salad Bowl   \n4621      1834         1                     Chicken Salad Bowl   \n\n                                     choice_description item_price  \n0                                                   NaN     $2.39   \n1                                          [Clementine]     $3.39   \n2                                               [Apple]     $3.39   \n3                                                   NaN     $2.39   \n4     [Tomatillo-Red Chili Salsa (Hot), [Black Beans...    $16.98   \n...                                                 ...        ...  \n4617  [Fresh Tomato Salsa, [Rice, Black Beans, Sour ...    $11.75   \n4618  [Fresh Tomato Salsa, [Rice, Sour Cream, Cheese...    $11.75   \n4619  [Fresh Tomato Salsa, [Fajita Vegetables, Pinto...    $11.25   \n4620  [Fresh Tomato Salsa, [Fajita Vegetables, Lettu...     $8.75   \n4621  [Fresh Tomato Salsa, [Fajita Vegetables, Pinto...     $8.75   \n\n[4622 rows x 5 columns]",
      "text/html": "<div>\n<style scoped>\n    .dataframe tbody tr th:only-of-type {\n        vertical-align: middle;\n    }\n\n    .dataframe tbody tr th {\n        vertical-align: top;\n    }\n\n    .dataframe thead th {\n        text-align: right;\n    }\n</style>\n<table border=\"1\" class=\"dataframe\">\n  <thead>\n    <tr style=\"text-align: right;\">\n      <th></th>\n      <th>order_id</th>\n      <th>quantity</th>\n      <th>item_name</th>\n      <th>choice_description</th>\n      <th>item_price</th>\n    </tr>\n  </thead>\n  <tbody>\n    <tr>\n      <th>0</th>\n      <td>1</td>\n      <td>1</td>\n      <td>Chips and Fresh Tomato Salsa</td>\n      <td>NaN</td>\n      <td>$2.39</td>\n    </tr>\n    <tr>\n      <th>1</th>\n      <td>1</td>\n      <td>1</td>\n      <td>Izze</td>\n      <td>[Clementine]</td>\n      <td>$3.39</td>\n    </tr>\n    <tr>\n      <th>2</th>\n      <td>1</td>\n      <td>1</td>\n      <td>Nantucket Nectar</td>\n      <td>[Apple]</td>\n      <td>$3.39</td>\n    </tr>\n    <tr>\n      <th>3</th>\n      <td>1</td>\n      <td>1</td>\n      <td>Chips and Tomatillo-Green Chili Salsa</td>\n      <td>NaN</td>\n      <td>$2.39</td>\n    </tr>\n    <tr>\n      <th>4</th>\n      <td>2</td>\n      <td>2</td>\n      <td>Chicken Bowl</td>\n      <td>[Tomatillo-Red Chili Salsa (Hot), [Black Beans...</td>\n      <td>$16.98</td>\n    </tr>\n    <tr>\n      <th>...</th>\n      <td>...</td>\n      <td>...</td>\n      <td>...</td>\n      <td>...</td>\n      <td>...</td>\n    </tr>\n    <tr>\n      <th>4617</th>\n      <td>1833</td>\n      <td>1</td>\n      <td>Steak Burrito</td>\n      <td>[Fresh Tomato Salsa, [Rice, Black Beans, Sour ...</td>\n      <td>$11.75</td>\n    </tr>\n    <tr>\n      <th>4618</th>\n      <td>1833</td>\n      <td>1</td>\n      <td>Steak Burrito</td>\n      <td>[Fresh Tomato Salsa, [Rice, Sour Cream, Cheese...</td>\n      <td>$11.75</td>\n    </tr>\n    <tr>\n      <th>4619</th>\n      <td>1834</td>\n      <td>1</td>\n      <td>Chicken Salad Bowl</td>\n      <td>[Fresh Tomato Salsa, [Fajita Vegetables, Pinto...</td>\n      <td>$11.25</td>\n    </tr>\n    <tr>\n      <th>4620</th>\n      <td>1834</td>\n      <td>1</td>\n      <td>Chicken Salad Bowl</td>\n      <td>[Fresh Tomato Salsa, [Fajita Vegetables, Lettu...</td>\n      <td>$8.75</td>\n    </tr>\n    <tr>\n      <th>4621</th>\n      <td>1834</td>\n      <td>1</td>\n      <td>Chicken Salad Bowl</td>\n      <td>[Fresh Tomato Salsa, [Fajita Vegetables, Pinto...</td>\n      <td>$8.75</td>\n    </tr>\n  </tbody>\n</table>\n<p>4622 rows × 5 columns</p>\n</div>"
     },
     "execution_count": 15,
     "metadata": {},
     "output_type": "execute_result"
    }
   ],
   "source": [
    "food = pd.read_csv(r'C:\\DESKTOP\\PythonEconRepoOnDesktop\\ECOPY_23241\\data\\chipotle.tsv', sep='\\t')\n",
    "food"
   ],
   "metadata": {
    "collapsed": false,
    "ExecuteTime": {
     "end_time": "2023-10-18T17:25:35.022600300Z",
     "start_time": "2023-10-18T17:25:34.968764Z"
    }
   },
   "id": "aa63838b7dbe11ef"
  },
  {
   "cell_type": "code",
   "execution_count": 17,
   "outputs": [
    {
     "data": {
      "text/plain": "      order_id  quantity                              item_name  \\\n0            1         1           Chips and Fresh Tomato Salsa   \n1            1         1                                   Izze   \n2            1         1                       Nantucket Nectar   \n3            1         1  Chips and Tomatillo-Green Chili Salsa   \n4            2         2                           Chicken Bowl   \n...        ...       ...                                    ...   \n4617      1833         1                          Steak Burrito   \n4618      1833         1                          Steak Burrito   \n4619      1834         1                     Chicken Salad Bowl   \n4620      1834         1                     Chicken Salad Bowl   \n4621      1834         1                     Chicken Salad Bowl   \n\n                                     choice_description  item_price  \n0                                                   NaN        2.39  \n1                                          [Clementine]        3.39  \n2                                               [Apple]        3.39  \n3                                                   NaN        2.39  \n4     [Tomatillo-Red Chili Salsa (Hot), [Black Beans...       16.98  \n...                                                 ...         ...  \n4617  [Fresh Tomato Salsa, [Rice, Black Beans, Sour ...       11.75  \n4618  [Fresh Tomato Salsa, [Rice, Sour Cream, Cheese...       11.75  \n4619  [Fresh Tomato Salsa, [Fajita Vegetables, Pinto...       11.25  \n4620  [Fresh Tomato Salsa, [Fajita Vegetables, Lettu...        8.75  \n4621  [Fresh Tomato Salsa, [Fajita Vegetables, Pinto...        8.75  \n\n[4622 rows x 5 columns]",
      "text/html": "<div>\n<style scoped>\n    .dataframe tbody tr th:only-of-type {\n        vertical-align: middle;\n    }\n\n    .dataframe tbody tr th {\n        vertical-align: top;\n    }\n\n    .dataframe thead th {\n        text-align: right;\n    }\n</style>\n<table border=\"1\" class=\"dataframe\">\n  <thead>\n    <tr style=\"text-align: right;\">\n      <th></th>\n      <th>order_id</th>\n      <th>quantity</th>\n      <th>item_name</th>\n      <th>choice_description</th>\n      <th>item_price</th>\n    </tr>\n  </thead>\n  <tbody>\n    <tr>\n      <th>0</th>\n      <td>1</td>\n      <td>1</td>\n      <td>Chips and Fresh Tomato Salsa</td>\n      <td>NaN</td>\n      <td>2.39</td>\n    </tr>\n    <tr>\n      <th>1</th>\n      <td>1</td>\n      <td>1</td>\n      <td>Izze</td>\n      <td>[Clementine]</td>\n      <td>3.39</td>\n    </tr>\n    <tr>\n      <th>2</th>\n      <td>1</td>\n      <td>1</td>\n      <td>Nantucket Nectar</td>\n      <td>[Apple]</td>\n      <td>3.39</td>\n    </tr>\n    <tr>\n      <th>3</th>\n      <td>1</td>\n      <td>1</td>\n      <td>Chips and Tomatillo-Green Chili Salsa</td>\n      <td>NaN</td>\n      <td>2.39</td>\n    </tr>\n    <tr>\n      <th>4</th>\n      <td>2</td>\n      <td>2</td>\n      <td>Chicken Bowl</td>\n      <td>[Tomatillo-Red Chili Salsa (Hot), [Black Beans...</td>\n      <td>16.98</td>\n    </tr>\n    <tr>\n      <th>...</th>\n      <td>...</td>\n      <td>...</td>\n      <td>...</td>\n      <td>...</td>\n      <td>...</td>\n    </tr>\n    <tr>\n      <th>4617</th>\n      <td>1833</td>\n      <td>1</td>\n      <td>Steak Burrito</td>\n      <td>[Fresh Tomato Salsa, [Rice, Black Beans, Sour ...</td>\n      <td>11.75</td>\n    </tr>\n    <tr>\n      <th>4618</th>\n      <td>1833</td>\n      <td>1</td>\n      <td>Steak Burrito</td>\n      <td>[Fresh Tomato Salsa, [Rice, Sour Cream, Cheese...</td>\n      <td>11.75</td>\n    </tr>\n    <tr>\n      <th>4619</th>\n      <td>1834</td>\n      <td>1</td>\n      <td>Chicken Salad Bowl</td>\n      <td>[Fresh Tomato Salsa, [Fajita Vegetables, Pinto...</td>\n      <td>11.25</td>\n    </tr>\n    <tr>\n      <th>4620</th>\n      <td>1834</td>\n      <td>1</td>\n      <td>Chicken Salad Bowl</td>\n      <td>[Fresh Tomato Salsa, [Fajita Vegetables, Lettu...</td>\n      <td>8.75</td>\n    </tr>\n    <tr>\n      <th>4621</th>\n      <td>1834</td>\n      <td>1</td>\n      <td>Chicken Salad Bowl</td>\n      <td>[Fresh Tomato Salsa, [Fajita Vegetables, Pinto...</td>\n      <td>8.75</td>\n    </tr>\n  </tbody>\n</table>\n<p>4622 rows × 5 columns</p>\n</div>"
     },
     "execution_count": 17,
     "metadata": {},
     "output_type": "execute_result"
    }
   ],
   "source": [
    "def change_price_to_float(input_df):\n",
    "    df = input_df.copy()\n",
    "    df.item_price = df.item_price.str[1:]\n",
    "    df.item_price = df.item_price.astype(float)\n",
    "    return df\n",
    "\n",
    "change_price_to_float(food)"
   ],
   "metadata": {
    "collapsed": false,
    "ExecuteTime": {
     "end_time": "2023-10-18T17:27:00.603509Z",
     "start_time": "2023-10-18T17:27:00.554738Z"
    }
   },
   "id": "b230cfe2845eb85f"
  },
  {
   "cell_type": "code",
   "execution_count": 23,
   "outputs": [
    {
     "name": "stderr",
     "output_type": "stream",
     "text": [
      "C:\\Users\\gyeng\\AppData\\Local\\Temp\\ipykernel_16728\\3478217075.py:11: FutureWarning: unique with argument that is not not a Series, Index, ExtensionArray, or np.ndarray is deprecated and will raise in a future version.\n",
      "  pd.unique(unique_items_over_ten_dollars(food)[['item_name', 'choice_description', 'item_price']])\n"
     ]
    },
    {
     "ename": "ValueError",
     "evalue": "could not broadcast input array from shape (1130,3) into shape (1130,)",
     "output_type": "error",
     "traceback": [
      "\u001B[1;31m---------------------------------------------------------------------------\u001B[0m",
      "\u001B[1;31mValueError\u001B[0m                                Traceback (most recent call last)",
      "Cell \u001B[1;32mIn[23], line 11\u001B[0m\n\u001B[0;32m      8\u001B[0m     df \u001B[38;5;241m=\u001B[39m df[df\u001B[38;5;241m.\u001B[39mitem_price\u001B[38;5;241m>\u001B[39m\u001B[38;5;241m10\u001B[39m]\n\u001B[0;32m      9\u001B[0m     \u001B[38;5;28;01mreturn\u001B[39;00m df\n\u001B[1;32m---> 11\u001B[0m \u001B[43mpd\u001B[49m\u001B[38;5;241;43m.\u001B[39;49m\u001B[43munique\u001B[49m\u001B[43m(\u001B[49m\u001B[43munique_items_over_ten_dollars\u001B[49m\u001B[43m(\u001B[49m\u001B[43mfood\u001B[49m\u001B[43m)\u001B[49m\u001B[43m[\u001B[49m\u001B[43m[\u001B[49m\u001B[38;5;124;43m'\u001B[39;49m\u001B[38;5;124;43mitem_name\u001B[39;49m\u001B[38;5;124;43m'\u001B[39;49m\u001B[43m,\u001B[49m\u001B[43m \u001B[49m\u001B[38;5;124;43m'\u001B[39;49m\u001B[38;5;124;43mchoice_description\u001B[39;49m\u001B[38;5;124;43m'\u001B[39;49m\u001B[43m,\u001B[49m\u001B[43m \u001B[49m\u001B[38;5;124;43m'\u001B[39;49m\u001B[38;5;124;43mitem_price\u001B[39;49m\u001B[38;5;124;43m'\u001B[39;49m\u001B[43m]\u001B[49m\u001B[43m]\u001B[49m\u001B[43m)\u001B[49m\n",
      "File \u001B[1;32mC:\\DESKTOP\\PythonEconRepoOnDesktop\\ECOPY_23241\\.venv\\Lib\\site-packages\\pandas\\core\\algorithms.py:401\u001B[0m, in \u001B[0;36munique\u001B[1;34m(values)\u001B[0m\n\u001B[0;32m    307\u001B[0m \u001B[38;5;28;01mdef\u001B[39;00m \u001B[38;5;21munique\u001B[39m(values):\n\u001B[0;32m    308\u001B[0m \u001B[38;5;250m    \u001B[39m\u001B[38;5;124;03m\"\"\"\u001B[39;00m\n\u001B[0;32m    309\u001B[0m \u001B[38;5;124;03m    Return unique values based on a hash table.\u001B[39;00m\n\u001B[0;32m    310\u001B[0m \n\u001B[1;32m   (...)\u001B[0m\n\u001B[0;32m    399\u001B[0m \u001B[38;5;124;03m    array([('a', 'b'), ('b', 'a'), ('a', 'c')], dtype=object)\u001B[39;00m\n\u001B[0;32m    400\u001B[0m \u001B[38;5;124;03m    \"\"\"\u001B[39;00m\n\u001B[1;32m--> 401\u001B[0m     \u001B[38;5;28;01mreturn\u001B[39;00m \u001B[43munique_with_mask\u001B[49m\u001B[43m(\u001B[49m\u001B[43mvalues\u001B[49m\u001B[43m)\u001B[49m\n",
      "File \u001B[1;32mC:\\DESKTOP\\PythonEconRepoOnDesktop\\ECOPY_23241\\.venv\\Lib\\site-packages\\pandas\\core\\algorithms.py:429\u001B[0m, in \u001B[0;36munique_with_mask\u001B[1;34m(values, mask)\u001B[0m\n\u001B[0;32m    427\u001B[0m \u001B[38;5;28;01mdef\u001B[39;00m \u001B[38;5;21munique_with_mask\u001B[39m(values, mask: npt\u001B[38;5;241m.\u001B[39mNDArray[np\u001B[38;5;241m.\u001B[39mbool_] \u001B[38;5;241m|\u001B[39m \u001B[38;5;28;01mNone\u001B[39;00m \u001B[38;5;241m=\u001B[39m \u001B[38;5;28;01mNone\u001B[39;00m):\n\u001B[0;32m    428\u001B[0m \u001B[38;5;250m    \u001B[39m\u001B[38;5;124;03m\"\"\"See algorithms.unique for docs. Takes a mask for masked arrays.\"\"\"\u001B[39;00m\n\u001B[1;32m--> 429\u001B[0m     values \u001B[38;5;241m=\u001B[39m \u001B[43m_ensure_arraylike\u001B[49m\u001B[43m(\u001B[49m\u001B[43mvalues\u001B[49m\u001B[43m,\u001B[49m\u001B[43m \u001B[49m\u001B[43mfunc_name\u001B[49m\u001B[38;5;241;43m=\u001B[39;49m\u001B[38;5;124;43m\"\u001B[39;49m\u001B[38;5;124;43munique\u001B[39;49m\u001B[38;5;124;43m\"\u001B[39;49m\u001B[43m)\u001B[49m\n\u001B[0;32m    431\u001B[0m     \u001B[38;5;28;01mif\u001B[39;00m \u001B[38;5;28misinstance\u001B[39m(values\u001B[38;5;241m.\u001B[39mdtype, ExtensionDtype):\n\u001B[0;32m    432\u001B[0m         \u001B[38;5;66;03m# Dispatch to extension dtype's unique.\u001B[39;00m\n\u001B[0;32m    433\u001B[0m         \u001B[38;5;28;01mreturn\u001B[39;00m values\u001B[38;5;241m.\u001B[39munique()\n",
      "File \u001B[1;32mC:\\DESKTOP\\PythonEconRepoOnDesktop\\ECOPY_23241\\.venv\\Lib\\site-packages\\pandas\\core\\algorithms.py:238\u001B[0m, in \u001B[0;36m_ensure_arraylike\u001B[1;34m(values, func_name)\u001B[0m\n\u001B[0;32m    236\u001B[0m     \u001B[38;5;28;01mif\u001B[39;00m \u001B[38;5;28misinstance\u001B[39m(values, \u001B[38;5;28mtuple\u001B[39m):\n\u001B[0;32m    237\u001B[0m         values \u001B[38;5;241m=\u001B[39m \u001B[38;5;28mlist\u001B[39m(values)\n\u001B[1;32m--> 238\u001B[0m     values \u001B[38;5;241m=\u001B[39m \u001B[43mconstruct_1d_object_array_from_listlike\u001B[49m\u001B[43m(\u001B[49m\u001B[43mvalues\u001B[49m\u001B[43m)\u001B[49m\n\u001B[0;32m    239\u001B[0m \u001B[38;5;28;01melse\u001B[39;00m:\n\u001B[0;32m    240\u001B[0m     values \u001B[38;5;241m=\u001B[39m np\u001B[38;5;241m.\u001B[39masarray(values)\n",
      "File \u001B[1;32mC:\\DESKTOP\\PythonEconRepoOnDesktop\\ECOPY_23241\\.venv\\Lib\\site-packages\\pandas\\core\\dtypes\\cast.py:1565\u001B[0m, in \u001B[0;36mconstruct_1d_object_array_from_listlike\u001B[1;34m(values)\u001B[0m\n\u001B[0;32m   1562\u001B[0m \u001B[38;5;66;03m# numpy will try to interpret nested lists as further dimensions, hence\u001B[39;00m\n\u001B[0;32m   1563\u001B[0m \u001B[38;5;66;03m# making a 1D array that contains list-likes is a bit tricky:\u001B[39;00m\n\u001B[0;32m   1564\u001B[0m result \u001B[38;5;241m=\u001B[39m np\u001B[38;5;241m.\u001B[39mempty(\u001B[38;5;28mlen\u001B[39m(values), dtype\u001B[38;5;241m=\u001B[39m\u001B[38;5;124m\"\u001B[39m\u001B[38;5;124mobject\u001B[39m\u001B[38;5;124m\"\u001B[39m)\n\u001B[1;32m-> 1565\u001B[0m \u001B[43mresult\u001B[49m\u001B[43m[\u001B[49m\u001B[43m:\u001B[49m\u001B[43m]\u001B[49m \u001B[38;5;241m=\u001B[39m values\n\u001B[0;32m   1566\u001B[0m \u001B[38;5;28;01mreturn\u001B[39;00m result\n",
      "\u001B[1;31mValueError\u001B[0m: could not broadcast input array from shape (1130,3) into shape (1130,)"
     ]
    }
   ],
   "source": [
    "def items_and_prices(input_df):\n",
    "    df = input_df.copy()\n",
    "    df = df.loc[:, ['item_name', 'item_price']]\n",
    "    return df\n",
    "\n",
    "def unique_items_over_ten_dollars(input_df):\n",
    "    df = change_price_to_float(food)\n",
    "    df = df[df.item_price>10]\n",
    "    return df\n",
    "\n",
    "pd.unique(unique_items_over_ten_dollars(food)[['item_name', 'choice_description', 'item_price']])"
   ],
   "metadata": {
    "collapsed": false,
    "ExecuteTime": {
     "end_time": "2023-10-18T17:41:18.624451Z",
     "start_time": "2023-10-18T17:41:18.272255600Z"
    }
   },
   "id": "3641651ae8f0c519"
  },
  {
   "cell_type": "code",
   "execution_count": 26,
   "outputs": [],
   "source": [
    "def items_starting_with_s(input_df):\n",
    "    df = input_df.copy()\n",
    "    df = df[df['item_name'].str.startswith('S')]\n",
    "    return df[['item_name']]"
   ],
   "metadata": {
    "collapsed": false,
    "ExecuteTime": {
     "end_time": "2023-10-18T17:46:27.338329500Z",
     "start_time": "2023-10-18T17:46:27.290122500Z"
    }
   },
   "id": "c86ac00864fedbc0"
  },
  {
   "cell_type": "code",
   "execution_count": 28,
   "outputs": [
    {
     "data": {
      "text/plain": "      order_id  quantity                              item_name\n0            1         1           Chips and Fresh Tomato Salsa\n1            1         1                                   Izze\n2            1         1                       Nantucket Nectar\n3            1         1  Chips and Tomatillo-Green Chili Salsa\n4            2         2                           Chicken Bowl\n...        ...       ...                                    ...\n4617      1833         1                          Steak Burrito\n4618      1833         1                          Steak Burrito\n4619      1834         1                     Chicken Salad Bowl\n4620      1834         1                     Chicken Salad Bowl\n4621      1834         1                     Chicken Salad Bowl\n\n[4622 rows x 3 columns]",
      "text/html": "<div>\n<style scoped>\n    .dataframe tbody tr th:only-of-type {\n        vertical-align: middle;\n    }\n\n    .dataframe tbody tr th {\n        vertical-align: top;\n    }\n\n    .dataframe thead th {\n        text-align: right;\n    }\n</style>\n<table border=\"1\" class=\"dataframe\">\n  <thead>\n    <tr style=\"text-align: right;\">\n      <th></th>\n      <th>order_id</th>\n      <th>quantity</th>\n      <th>item_name</th>\n    </tr>\n  </thead>\n  <tbody>\n    <tr>\n      <th>0</th>\n      <td>1</td>\n      <td>1</td>\n      <td>Chips and Fresh Tomato Salsa</td>\n    </tr>\n    <tr>\n      <th>1</th>\n      <td>1</td>\n      <td>1</td>\n      <td>Izze</td>\n    </tr>\n    <tr>\n      <th>2</th>\n      <td>1</td>\n      <td>1</td>\n      <td>Nantucket Nectar</td>\n    </tr>\n    <tr>\n      <th>3</th>\n      <td>1</td>\n      <td>1</td>\n      <td>Chips and Tomatillo-Green Chili Salsa</td>\n    </tr>\n    <tr>\n      <th>4</th>\n      <td>2</td>\n      <td>2</td>\n      <td>Chicken Bowl</td>\n    </tr>\n    <tr>\n      <th>...</th>\n      <td>...</td>\n      <td>...</td>\n      <td>...</td>\n    </tr>\n    <tr>\n      <th>4617</th>\n      <td>1833</td>\n      <td>1</td>\n      <td>Steak Burrito</td>\n    </tr>\n    <tr>\n      <th>4618</th>\n      <td>1833</td>\n      <td>1</td>\n      <td>Steak Burrito</td>\n    </tr>\n    <tr>\n      <th>4619</th>\n      <td>1834</td>\n      <td>1</td>\n      <td>Chicken Salad Bowl</td>\n    </tr>\n    <tr>\n      <th>4620</th>\n      <td>1834</td>\n      <td>1</td>\n      <td>Chicken Salad Bowl</td>\n    </tr>\n    <tr>\n      <th>4621</th>\n      <td>1834</td>\n      <td>1</td>\n      <td>Chicken Salad Bowl</td>\n    </tr>\n  </tbody>\n</table>\n<p>4622 rows × 3 columns</p>\n</div>"
     },
     "execution_count": 28,
     "metadata": {},
     "output_type": "execute_result"
    }
   ],
   "source": [
    "def every_column_except_last_two(input_df):\n",
    "    df = change_price_to_float(food)\n",
    "    return df.iloc[:, :-2]\n",
    "\n",
    "every_column_except_last_two(food)"
   ],
   "metadata": {
    "collapsed": false,
    "ExecuteTime": {
     "end_time": "2023-10-18T17:46:40.363505900Z",
     "start_time": "2023-10-18T17:46:40.290812Z"
    }
   },
   "id": "b9ce3cb88c965721"
  },
  {
   "cell_type": "code",
   "execution_count": 35,
   "outputs": [
    {
     "name": "stderr",
     "output_type": "stream",
     "text": [
      "C:\\Users\\gyeng\\AppData\\Local\\Temp\\ipykernel_16728\\3240303806.py:15: FutureWarning: The default of observed=False is deprecated and will be changed to True in a future version of pandas. Pass observed=False to retain current behavior or observed=True to adopt the future default and silence this warning.\n",
      "  df2 = df.groupby('Quartile').agg({'item_price': ['min', 'max', 'mean']})\n"
     ]
    },
    {
     "data": {
      "text/plain": "            item_price                  \n                   min    max       mean\nQuartile                                \nlow-cost          1.09   9.39   5.869593\nmedium-cost      10.50  18.50  11.853084\nhigh-cost        21.96  27.75  23.181951\npremium          32.94  44.25  36.031667",
      "text/html": "<div>\n<style scoped>\n    .dataframe tbody tr th:only-of-type {\n        vertical-align: middle;\n    }\n\n    .dataframe tbody tr th {\n        vertical-align: top;\n    }\n\n    .dataframe thead tr th {\n        text-align: left;\n    }\n\n    .dataframe thead tr:last-of-type th {\n        text-align: right;\n    }\n</style>\n<table border=\"1\" class=\"dataframe\">\n  <thead>\n    <tr>\n      <th></th>\n      <th colspan=\"3\" halign=\"left\">item_price</th>\n    </tr>\n    <tr>\n      <th></th>\n      <th>min</th>\n      <th>max</th>\n      <th>mean</th>\n    </tr>\n    <tr>\n      <th>Quartile</th>\n      <th></th>\n      <th></th>\n      <th></th>\n    </tr>\n  </thead>\n  <tbody>\n    <tr>\n      <th>low-cost</th>\n      <td>1.09</td>\n      <td>9.39</td>\n      <td>5.869593</td>\n    </tr>\n    <tr>\n      <th>medium-cost</th>\n      <td>10.50</td>\n      <td>18.50</td>\n      <td>11.853084</td>\n    </tr>\n    <tr>\n      <th>high-cost</th>\n      <td>21.96</td>\n      <td>27.75</td>\n      <td>23.181951</td>\n    </tr>\n    <tr>\n      <th>premium</th>\n      <td>32.94</td>\n      <td>44.25</td>\n      <td>36.031667</td>\n    </tr>\n  </tbody>\n</table>\n</div>"
     },
     "execution_count": 35,
     "metadata": {},
     "output_type": "execute_result"
    }
   ],
   "source": [
    "def generate_quartile(input_df):\n",
    "    df = change_price_to_float(input_df)\n",
    "    bins = [0, 9.99, 19.99, 29.99, float('inf')]\n",
    "    labels = ['low-cost', 'medium-cost', 'high-cost', 'premium']\n",
    "    df['Quartile'] = pd.cut(df['item_price'], bins=bins, labels=labels, right=False)\n",
    "    return df\n",
    "\n",
    "def average_price_in_quartiles(input_df):\n",
    "    df = generate_quartile(input_df)\n",
    "    df2 = df.groupby(['Quartile'])['item_price'].mean()\n",
    "    return df2\n",
    "\n",
    "def minmaxmean_price_in_quartile(input_df):\n",
    "    df = generate_quartile(input_df)\n",
    "    df2 = df.groupby('Quartile').agg({'item_price': ['min', 'max', 'mean']}) \n",
    "    return df2\n",
    "\n",
    "minmaxmean_price_in_quartile(food)"
   ],
   "metadata": {
    "collapsed": false,
    "ExecuteTime": {
     "end_time": "2023-10-18T17:56:43.069529100Z",
     "start_time": "2023-10-18T17:56:43.005072500Z"
    }
   },
   "id": "e0ef4abaed69de45"
  },
  {
   "cell_type": "code",
   "execution_count": 45,
   "outputs": [],
   "source": [
    "import pandas as pd\n",
    "import typing\n",
    "import matplotlib\n",
    "import random\n",
    "from  src.utils import distributions\n",
    "import src.weekly"
   ],
   "metadata": {
    "collapsed": false,
    "ExecuteTime": {
     "end_time": "2023-10-18T18:05:59.048832300Z",
     "start_time": "2023-10-18T18:05:58.288429400Z"
    }
   },
   "id": "8dfc9dbe7b93b9be"
  },
  {
   "cell_type": "code",
   "execution_count": null,
   "outputs": [],
   "source": [],
   "metadata": {
    "collapsed": false
   },
   "id": "4da2624052fac8fe"
  },
  {
   "cell_type": "code",
   "execution_count": 57,
   "outputs": [],
   "source": [
    "def gen_uniform_mean_trajectories(distribution, number_of_trajectories, length_of_trajectory):\n",
    "    random.seed(42)\n",
    "    def genList():\n",
    "        a = [distribution.gen_rand() for i in range(length_of_trajectory)]\n",
    "        sum = 0\n",
    "        cumsum = [sum := (sum + s) / (a.index(s) + 1) for s in a]\n",
    "        return cumsum\n",
    "\n",
    "    return [genList() for i in range(number_of_trajectories)]"
   ],
   "metadata": {
    "collapsed": false,
    "ExecuteTime": {
     "end_time": "2023-10-18T18:32:18.111964Z",
     "start_time": "2023-10-18T18:32:18.107907700Z"
    }
   },
   "id": "83234a921746bcb6"
  },
  {
   "cell_type": "code",
   "execution_count": 58,
   "outputs": [
    {
     "data": {
      "text/plain": "[[0.6394267984578837,\n  0.33221877684027534,\n  0.20241603173646486,\n  0.1064066924713219,\n  0.16857558132706685,\n  0.14087917812499637,\n  0.14757982083283452,\n  0.029314831682781334,\n  0.050137405707561304,\n  0.007993462514563166,\n  0.02060285793801514,\n  0.04382984550344813,\n  0.005412755014408596,\n  0.01458931469293265,\n  0.04429825016483039,\n  0.03682748317300294,\n  0.015133417953747038,\n  0.03357772787942532,\n  0.044368851818802735,\n  0.0025433805748431874,\n  0.03849345868607862,\n  0.03348331153065025,\n  0.016249296871680093,\n  0.007155366528477568,\n  0.03857473754941035,\n  0.014429587794693733,\n  0.0039694604138830235,\n  0.0035959227588338227,\n  0.029347941003665296,\n  0.021102465745685212,\n  0.026717120613550496,\n  0.02363902835335526,\n  0.016965670297213818,\n  0.029120042184605427,\n  0.01164726912551311,\n  0.015657997233298335,\n  0.022839531391521437,\n  0.01687787588830967,\n  0.02252781477433556,\n  0.01499699900077744,\n  0.0175504593955049,\n  0.001508924834551598,\n  0.005335051174095312,\n  0.006698250335822784,\n  0.0019220050502100064,\n  0.0051024541611139175,\n  0.0022575294376775113,\n  0.0058381485947452,\n  0.013092297813451946,\n  0.007558489535670724,\n  0.007406656012795164,\n  0.004171417053543901,\n  0.00511602337929542,\n  0.017440196501699805,\n  0.012099556031787152,\n  0.011093402887478131,\n  0.0031970535278171073,\n  0.012626273301347694,\n  0.0029835384248012896,\n  0.006373983003040818,\n  0.016326185797371082,\n  0.01058590234921716,\n  0.009008502319426404,\n  0.010837855520457828,\n  0.013133688857081037,\n  0.011956569703080695,\n  0.003597084203987837,\n  0.0005249607074709646,\n  0.004579391431399318,\n  0.0038902895343871716,\n  0.0030263821566297693,\n  0.01313800134016228,\n  0.012185008600175769,\n  0.00441706607295478,\n  0.008798076418237797,\n  0.005321447072090817,\n  0.011946351127436809,\n  0.0060358744066004565,\n  0.0034293169734766196,\n  0.0031257103083432505,\n  0.006969059808290051,\n  0.003289154491844211,\n  0.007082833068860057,\n  0.010772687103230202,\n  0.004825566967572088,\n  0.002606352629358784,\n  0.011495907576143322,\n  0.005920706832415998,\n  0.0010879788652383134,\n  0.0005356039365552543,\n  0.001210821255903455,\n  0.006833226771293407,\n  0.008590457969185564,\n  0.0045824513273284,\n  0.0007169490260977425,\n  0.00398266912013161,\n  0.010310351024332252,\n  0.005504333633912951,\n  0.009864471830783143,\n  0.008706441740652812],\n [0.011481021942819636,\n  0.36610142065150714,\n  0.3492705965593606,\n  0.22156023174203893,\n  0.09767708433891634,\n  0.12310648048645406,\n  0.03352266486890436,\n  0.05853598944225117,\n  0.056917743974606395,\n  0.10107336714956865,\n  0.08881148250252388,\n  0.02935004443780122,\n  0.04076431980677689,\n  0.01567258573835059,\n  0.061886695005544744,\n  0.05827532905264448,\n  0.02098353650007514,\n  0.03666294618700446,\n  0.03398069250658825,\n  0.009340998052811153,\n  0.036754847529902976,\n  0.026187903529524034,\n  0.03499192965913401,\n  0.023556066743929644,\n  0.000965118514874926,\n  0.012504660596905692,\n  0.0011844964067680738,\n  0.0332243968811209,\n  0.03144642326566569,\n  0.02877039842089484,\n  0.01084788786527601,\n  0.002149157948733236,\n  0.026671477489477995,\n  0.028635909493749178,\n  0.0032654103303322276,\n  0.013590440934637389,\n  0.0022379178217032704,\n  0.020074739028393022,\n  0.020151517136804638,\n  0.0037135745409141857,\n  0.011682828113162085,\n  0.013368724324002525,\n  0.006475008215443294,\n  0.01997518293865229,\n  0.00984695829198976,\n  0.004818373124653735,\n  0.011576903444768341,\n  0.015448082761140512,\n  0.004420390737772172,\n  0.006322733640773343,\n  0.019636707652973883,\n  0.012875283947931295,\n  0.008508969204951611,\n  0.009742311300750782,\n  0.0023772092212548455,\n  0.004054902611657361,\n  0.006002464294019521,\n  0.010246744530194014,\n  0.0040739233411317115,\n  0.00373818846321152,\n  0.0012251028602007221,\n  0.010198839679520962,\n  0.003795882912550402,\n  0.01420649837372935,\n  0.013443721517345783,\n  0.0012772889606969579,\n  0.0035713719899954054,\n  0.009890428680680529,\n  0.0032482208123350595,\n  0.0019365724219622864,\n  0.013203532577501878,\n  0.008114536470872033,\n  0.00658610359976255,\n  0.01069196659311508,\n  0.010909186191463447,\n  0.0026489355335965943,\n  0.0012932435034080508,\n  0.005542877255253661,\n  0.005431917725002208,\n  0.005905707322020965,\n  0.009073846380023107,\n  0.008322419435040545,\n  0.01195768229880731,\n  0.0013139946839376927,\n  0.004752179726896546,\n  0.004000637036300695,\n  0.009950266360794158,\n  0.002938711366830452,\n  0.002170197975366764,\n  0.005008708286761096,\n  0.004691102726606212,\n  0.0030786548629733335,\n  0.002719194653172837,\n  0.009850902063076443,\n  0.004768227864384562,\n  0.009022055548189741,\n  0.005766467711319977,\n  0.0005750489513898083,\n  0.010099570882465823,\n  0.008461271559624178]]"
     },
     "execution_count": 58,
     "metadata": {},
     "output_type": "execute_result"
    }
   ],
   "source": [
    "gen_uniform_mean_trajectories(distributions.UniformDistribution(random, 0, 1), 2, 100)"
   ],
   "metadata": {
    "collapsed": false,
    "ExecuteTime": {
     "end_time": "2023-10-18T18:32:21.156415300Z",
     "start_time": "2023-10-18T18:32:21.107604900Z"
    }
   },
   "id": "5d012905171e600d"
  },
  {
   "cell_type": "code",
   "execution_count": 53,
   "outputs": [
    {
     "data": {
      "text/plain": "7.464335785374297"
     },
     "execution_count": 53,
     "metadata": {},
     "output_type": "execute_result"
    }
   ],
   "source": [
    "def avg_price(input_df):\n",
    "    return change_price_to_float(input_df).item_price.mean()\n",
    "\n",
    "avg_price(food)"
   ],
   "metadata": {
    "collapsed": false,
    "ExecuteTime": {
     "end_time": "2023-10-18T18:20:46.546376700Z",
     "start_time": "2023-10-18T18:20:46.517884900Z"
    }
   },
   "id": "85adf81d5092e634"
  }
 ],
 "metadata": {
  "kernelspec": {
   "display_name": "Python 3",
   "language": "python",
   "name": "python3"
  },
  "language_info": {
   "codemirror_mode": {
    "name": "ipython",
    "version": 2
   },
   "file_extension": ".py",
   "mimetype": "text/x-python",
   "name": "python",
   "nbconvert_exporter": "python",
   "pygments_lexer": "ipython2",
   "version": "2.7.6"
  }
 },
 "nbformat": 4,
 "nbformat_minor": 5
}
