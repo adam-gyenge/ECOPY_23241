{
 "cells": [
  {
   "cell_type": "code",
   "execution_count": 38,
   "id": "initial_id",
   "metadata": {
    "collapsed": true,
    "ExecuteTime": {
     "end_time": "2023-10-27T13:11:29.644109500Z",
     "start_time": "2023-10-27T13:11:29.541856400Z"
    }
   },
   "outputs": [
    {
     "name": "stderr",
     "output_type": "stream",
     "text": [
      "C:\\Users\\gyeng\\AppData\\Local\\Temp\\ipykernel_8648\\2609112779.py:23: SettingWithCopyWarning: \n",
      "A value is trying to be set on a copy of a slice from a DataFrame\n",
      "\n",
      "See the caveats in the documentation: https://pandas.pydata.org/pandas-docs/stable/user_guide/indexing.html#returning-a-view-versus-a-copy\n",
      "  amzn_df.drop(columns=[\"Symbol\"], inplace=True)\n"
     ]
    }
   ],
   "source": [
    "import pathlib\n",
    "import pandas as pd\n",
    "import typing\n",
    "import statsmodels as sm\n",
    "\n",
    "from pathlib import Path\n",
    "\n",
    "sp500 = pd.read_parquet(Path.cwd().parent.parent.joinpath('data', 'sp500.parquet'), engine='fastparquet')\n",
    "\n",
    "ff_factors = pd.read_parquet(Path.cwd().parent.parent.joinpath('data', 'ff_factors.parquet'), engine='fastparquet')\n",
    "\n",
    "df = sp500.merge(ff_factors, left_on='Date', right_on='Date')\n",
    "\n",
    "df['Excess_Return'] = df['Monthly Returns']-df['RF']\n",
    "\n",
    "df.sort_values(by='Date', inplace=True)\n",
    "df['ex_ret_1'] = df.groupby('Symbol')['Excess_Return'].shift(-1)\n",
    "\n",
    "df.dropna(subset=['ex_ret_1'], inplace=True)\n",
    "df.dropna(subset=['HML'], inplace=True)\n",
    "\n",
    "amzn_df = df[df.Symbol == 'AMZN']\n",
    "amzn_df.drop(columns=[\"Symbol\"], inplace=True)"
   ]
  },
  {
   "cell_type": "code",
   "execution_count": 37,
   "outputs": [
    {
     "data": {
      "text/plain": "            Monthly Returns  Mkt-RF     SMB     HML     RF  Excess_Return  \\\nDate                                                                        \n2000-01-31        -0.984367 -0.0474  0.0577 -0.0188  0.041      -1.025367   \n2000-02-29         0.066796  0.0245  0.2136 -0.0959  0.043       0.023796   \n2000-03-31        -0.027223  0.0520 -0.1720  0.0813  0.047      -0.074223   \n2000-05-31        -0.124575 -0.0442 -0.0605  0.0475  0.050      -0.174575   \n2000-06-30        -0.248383  0.0464  0.1284 -0.0842  0.040      -0.288383   \n...                     ...     ...     ...     ...    ...            ...   \n2022-05-31        -0.032764 -0.0034 -0.0183  0.0839  0.003      -0.035764   \n2022-06-30        -0.116459 -0.0843  0.0210 -0.0597  0.006      -0.122459   \n2022-08-31        -0.060615 -0.0377  0.0140  0.0029  0.019      -0.079615   \n2022-09-30        -0.108622 -0.0935 -0.0081  0.0005  0.019      -0.127622   \n2022-10-31        -0.093451  0.0783  0.0006  0.0801  0.023      -0.116451   \n\n            ex_ret_1  \nDate                  \n2000-01-31  0.023796  \n2000-02-29 -0.074223  \n2000-03-31 -0.174575  \n2000-05-31 -0.288383  \n2000-06-30 -0.218396  \n...              ...  \n2022-05-31 -0.122459  \n2022-06-30 -0.079615  \n2022-08-31 -0.127622  \n2022-09-30 -0.116451  \n2022-10-31 -0.086595  \n\n[194 rows x 7 columns]",
      "text/html": "<div>\n<style scoped>\n    .dataframe tbody tr th:only-of-type {\n        vertical-align: middle;\n    }\n\n    .dataframe tbody tr th {\n        vertical-align: top;\n    }\n\n    .dataframe thead th {\n        text-align: right;\n    }\n</style>\n<table border=\"1\" class=\"dataframe\">\n  <thead>\n    <tr style=\"text-align: right;\">\n      <th></th>\n      <th>Monthly Returns</th>\n      <th>Mkt-RF</th>\n      <th>SMB</th>\n      <th>HML</th>\n      <th>RF</th>\n      <th>Excess_Return</th>\n      <th>ex_ret_1</th>\n    </tr>\n    <tr>\n      <th>Date</th>\n      <th></th>\n      <th></th>\n      <th></th>\n      <th></th>\n      <th></th>\n      <th></th>\n      <th></th>\n    </tr>\n  </thead>\n  <tbody>\n    <tr>\n      <th>2000-01-31</th>\n      <td>-0.984367</td>\n      <td>-0.0474</td>\n      <td>0.0577</td>\n      <td>-0.0188</td>\n      <td>0.041</td>\n      <td>-1.025367</td>\n      <td>0.023796</td>\n    </tr>\n    <tr>\n      <th>2000-02-29</th>\n      <td>0.066796</td>\n      <td>0.0245</td>\n      <td>0.2136</td>\n      <td>-0.0959</td>\n      <td>0.043</td>\n      <td>0.023796</td>\n      <td>-0.074223</td>\n    </tr>\n    <tr>\n      <th>2000-03-31</th>\n      <td>-0.027223</td>\n      <td>0.0520</td>\n      <td>-0.1720</td>\n      <td>0.0813</td>\n      <td>0.047</td>\n      <td>-0.074223</td>\n      <td>-0.174575</td>\n    </tr>\n    <tr>\n      <th>2000-05-31</th>\n      <td>-0.124575</td>\n      <td>-0.0442</td>\n      <td>-0.0605</td>\n      <td>0.0475</td>\n      <td>0.050</td>\n      <td>-0.174575</td>\n      <td>-0.288383</td>\n    </tr>\n    <tr>\n      <th>2000-06-30</th>\n      <td>-0.248383</td>\n      <td>0.0464</td>\n      <td>0.1284</td>\n      <td>-0.0842</td>\n      <td>0.040</td>\n      <td>-0.288383</td>\n      <td>-0.218396</td>\n    </tr>\n    <tr>\n      <th>...</th>\n      <td>...</td>\n      <td>...</td>\n      <td>...</td>\n      <td>...</td>\n      <td>...</td>\n      <td>...</td>\n      <td>...</td>\n    </tr>\n    <tr>\n      <th>2022-05-31</th>\n      <td>-0.032764</td>\n      <td>-0.0034</td>\n      <td>-0.0183</td>\n      <td>0.0839</td>\n      <td>0.003</td>\n      <td>-0.035764</td>\n      <td>-0.122459</td>\n    </tr>\n    <tr>\n      <th>2022-06-30</th>\n      <td>-0.116459</td>\n      <td>-0.0843</td>\n      <td>0.0210</td>\n      <td>-0.0597</td>\n      <td>0.006</td>\n      <td>-0.122459</td>\n      <td>-0.079615</td>\n    </tr>\n    <tr>\n      <th>2022-08-31</th>\n      <td>-0.060615</td>\n      <td>-0.0377</td>\n      <td>0.0140</td>\n      <td>0.0029</td>\n      <td>0.019</td>\n      <td>-0.079615</td>\n      <td>-0.127622</td>\n    </tr>\n    <tr>\n      <th>2022-09-30</th>\n      <td>-0.108622</td>\n      <td>-0.0935</td>\n      <td>-0.0081</td>\n      <td>0.0005</td>\n      <td>0.019</td>\n      <td>-0.127622</td>\n      <td>-0.116451</td>\n    </tr>\n    <tr>\n      <th>2022-10-31</th>\n      <td>-0.093451</td>\n      <td>0.0783</td>\n      <td>0.0006</td>\n      <td>0.0801</td>\n      <td>0.023</td>\n      <td>-0.116451</td>\n      <td>-0.086595</td>\n    </tr>\n  </tbody>\n</table>\n<p>194 rows × 7 columns</p>\n</div>"
     },
     "execution_count": 37,
     "metadata": {},
     "output_type": "execute_result"
    }
   ],
   "source": [
    "amzn_df"
   ],
   "metadata": {
    "collapsed": false,
    "ExecuteTime": {
     "end_time": "2023-10-27T13:10:43.190381300Z",
     "start_time": "2023-10-27T13:10:43.155970400Z"
    }
   },
   "id": "3257a28e0c826252"
  }
 ],
 "metadata": {
  "kernelspec": {
   "display_name": "Python 3",
   "language": "python",
   "name": "python3"
  },
  "language_info": {
   "codemirror_mode": {
    "name": "ipython",
    "version": 2
   },
   "file_extension": ".py",
   "mimetype": "text/x-python",
   "name": "python",
   "nbconvert_exporter": "python",
   "pygments_lexer": "ipython2",
   "version": "2.7.6"
  }
 },
 "nbformat": 4,
 "nbformat_minor": 5
}
